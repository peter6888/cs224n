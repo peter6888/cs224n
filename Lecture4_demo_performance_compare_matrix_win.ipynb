{
 "cells": [
  {
   "cell_type": "code",
   "execution_count": 1,
   "metadata": {
    "collapsed": true
   },
   "outputs": [],
   "source": [
    "import numpy as np\n",
    "from numpy import random"
   ]
  },
  {
   "cell_type": "code",
   "execution_count": null,
   "metadata": {
    "collapsed": true
   },
   "outputs": [],
   "source": [
    "# slow version\n",
    "N = 500\n",
    "d = 300\n",
    "C = 5\n",
    "W = random.rand(C,d)\n",
    "wordvectors_list = [random.rand(d,1) for i in range(N)]\n",
    "wordvectors_one_matrix = random.rand(d,N)\n",
    "\n",
    "%timeit [W.dot(wordvectors_list[i]) for i in]"
   ]
  }
 ],
 "metadata": {
  "anaconda-cloud": {},
  "kernelspec": {
   "display_name": "Python [default]",
   "language": "python",
   "name": "python3"
  },
  "language_info": {
   "codemirror_mode": {
    "name": "ipython",
    "version": 3
   },
   "file_extension": ".py",
   "mimetype": "text/x-python",
   "name": "python",
   "nbconvert_exporter": "python",
   "pygments_lexer": "ipython3",
   "version": "3.5.2"
  }
 },
 "nbformat": 4,
 "nbformat_minor": 1
}
