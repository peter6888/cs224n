{
 "cells": [
  {
   "cell_type": "markdown",
   "metadata": {},
   "source": [
    "# Word meaning - synonym sets and hypernyms"
   ]
  },
  {
   "cell_type": "code",
   "execution_count": 2,
   "metadata": {
    "collapsed": false
   },
   "outputs": [
    {
     "name": "stdout",
     "output_type": "stream",
     "text": [
      "(n) good\n",
      "(n) good,goodness\n",
      "(n) good,goodness\n",
      "(n) commodity,trade_good,good\n",
      "(a) good\n",
      "(s) full,good\n",
      "(a) good\n",
      "(s) estimable,good,honorable,respectable\n",
      "(s) beneficial,good\n",
      "(s) good\n",
      "(s) good,just,upright\n",
      "(s) adept,expert,good,practiced,proficient,skillful,skilful\n",
      "(s) good\n",
      "(s) dear,good,near\n",
      "(s) dependable,good,safe,secure\n",
      "(s) good,right,ripe\n",
      "(s) good,well\n",
      "(s) effective,good,in_effect,in_force\n",
      "(s) good\n",
      "(s) good,serious\n",
      "(s) good,sound\n",
      "(s) good,salutary\n",
      "(s) good,honest\n",
      "(s) good,undecomposed,unspoiled,unspoilt\n",
      "(s) good\n",
      "(r) well,good\n",
      "(r) thoroughly,soundly,good\n"
     ]
    }
   ],
   "source": [
    "from nltk.corpus import wordnet as wn\n",
    "for synset in wn.synsets(\"good\"):\n",
    "    print(\"({}) {}\".format(synset.pos(),\",\".join([l.name() for l in synset.lemmas()])))"
   ]
  },
  {
   "cell_type": "code",
   "execution_count": 3,
   "metadata": {
    "collapsed": false
   },
   "outputs": [
    {
     "data": {
      "text/plain": [
       "[Synset('procyonid.n.01'),\n",
       " Synset('carnivore.n.01'),\n",
       " Synset('placental.n.01'),\n",
       " Synset('mammal.n.01'),\n",
       " Synset('vertebrate.n.01'),\n",
       " Synset('chordate.n.01'),\n",
       " Synset('animal.n.01'),\n",
       " Synset('organism.n.01'),\n",
       " Synset('living_thing.n.01'),\n",
       " Synset('whole.n.02'),\n",
       " Synset('object.n.01'),\n",
       " Synset('physical_entity.n.01'),\n",
       " Synset('entity.n.01')]"
      ]
     },
     "execution_count": 3,
     "metadata": {},
     "output_type": "execute_result"
    }
   ],
   "source": [
    "from nltk.corpus import wordnet as wn\n",
    "panda = wn.synset(\"panda.n.01\")\n",
    "hyper = lambda s: s.hypernyms()\n",
    "list(panda.closure(hyper))"
   ]
  },
  {
   "cell_type": "code",
   "execution_count": null,
   "metadata": {
    "collapsed": true
   },
   "outputs": [],
   "source": []
  }
 ],
 "metadata": {
  "anaconda-cloud": {},
  "kernelspec": {
   "display_name": "Python [default]",
   "language": "python",
   "name": "python3"
  },
  "language_info": {
   "codemirror_mode": {
    "name": "ipython",
    "version": 3
   },
   "file_extension": ".py",
   "mimetype": "text/x-python",
   "name": "python",
   "nbconvert_exporter": "python",
   "pygments_lexer": "ipython3",
   "version": "3.5.2"
  }
 },
 "nbformat": 4,
 "nbformat_minor": 1
}
