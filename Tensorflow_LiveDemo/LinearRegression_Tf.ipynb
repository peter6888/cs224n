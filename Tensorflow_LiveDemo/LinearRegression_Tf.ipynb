{
 "cells": [
  {
   "cell_type": "markdown",
   "metadata": {},
   "source": [
    "# Live Demo from CS224n for Tensorflow\n",
    "Thie demo video can found from https://www.youtube.com/watch?v=PicxU81owCs&index=7&list=PL3FW7Lu3i5Jsnh1rnUwq_TcylNr7EkRe6\n"
   ]
  },
  {
   "cell_type": "code",
   "execution_count": 2,
   "metadata": {
    "collapsed": false
   },
   "outputs": [],
   "source": [
    "# init and imports\n",
    "import numpy as np\n",
    "import tensorflow as tf\n",
    "import matplotlib\n",
    "matplotlib.use('TKAgg')\n",
    "from matplotlib import pyplot as plt\n",
    "%matplotlib inline"
   ]
  },
  {
   "cell_type": "code",
   "execution_count": 3,
   "metadata": {
    "collapsed": true
   },
   "outputs": [],
   "source": [
    "# generate linear data\n",
    "def generate_dataset():\n",
    "    # y = 2x + e\n",
    "    # where 'e' is sampled from a normal distribution\n",
    "    x_batch = np.linspace(-1, 1, 101)\n",
    "    y_batch = 2 * x_batch + np.random.randn(*x_batch.shape) * 0.3\n",
    "    return x_batch, y_batch\n"
   ]
  },
  {
   "cell_type": "code",
   "execution_count": 14,
   "metadata": {
    "collapsed": true
   },
   "outputs": [],
   "source": [
    "def run():\n",
    "    x_batch, y_batch = generate_dataset()\n",
    "    \n",
    "    # demo code here\n",
    "    x, y, y_pred, loss = linear_regression()\n",
    "    optimizer = tf.train.GradientDescentOptimizer(0.1).minimize(loss)\n",
    "    init = tf.global_variables_initializer()\n",
    "    with tf.Session() as session:\n",
    "        session.run(init)\n",
    "        \n",
    "        feed_dict = {x: x_batch, y:y_batch}\n",
    "        \n",
    "        for _ in range(30):\n",
    "            loss_val, _ = session.run([loss, optimizer], feed_dict)\n",
    "            print('loss:', loss_val.mean())\n",
    "            \n",
    "        y_pred_batch = session.run(y_pred, {x: x_batch})\n",
    "    # end of demo code\n",
    "    plt.figure(1)\n",
    "    plt.scatter(x_batch, y_batch)\n",
    "    plt.plot(x_batch, y_pred_batch)\n",
    "    plt.savefig('plot.png')\n",
    "    \n",
    "def linear_regression():\n",
    "    x = tf.placeholder(tf.float32, shape=(None,), name='x')\n",
    "    y = tf.placeholder(tf.float32, shape=(None,), name='y')\n",
    "    \n",
    "    with tf.variable_scope('lreg') as scope:\n",
    "        w = tf.Variable(np.random.normal(), name='W')\n",
    "        y_pred = tf.multiply(w,x)\n",
    "        loss = tf.reduce_mean(tf.square(y_pred - y))\n",
    "    return x, y, y_pred, loss"
   ]
  },
  {
   "cell_type": "code",
   "execution_count": 15,
   "metadata": {
    "collapsed": false
   },
   "outputs": [
    {
     "name": "stdout",
     "output_type": "stream",
     "text": [
      "loss: 3.10169\n",
      "loss: 2.70466\n",
      "loss: 2.35979\n",
      "loss: 2.06023\n",
      "loss: 1.80003\n",
      "loss: 1.574\n",
      "loss: 1.37768\n",
      "loss: 1.20714\n",
      "loss: 1.05901\n",
      "loss: 0.930343\n",
      "loss: 0.818578\n",
      "loss: 0.721496\n",
      "loss: 0.637168\n",
      "loss: 0.563919\n",
      "loss: 0.500293\n",
      "loss: 0.445025\n",
      "loss: 0.397019\n",
      "loss: 0.35532\n",
      "loss: 0.319099\n",
      "loss: 0.287636\n",
      "loss: 0.260307\n",
      "loss: 0.236568\n",
      "loss: 0.215948\n",
      "loss: 0.198037\n",
      "loss: 0.182479\n",
      "loss: 0.168965\n",
      "loss: 0.157226\n",
      "loss: 0.14703\n",
      "loss: 0.138173\n",
      "loss: 0.13048\n"
     ]
    },
    {
     "data": {
      "image/png": "[encoded data removed]",
      "text/plain": [
       "<matplotlib.figure.Figure at 0x13fbc17b8>"
      ]
     },
     "metadata": {},
     "output_type": "display_data"
    }
   ],
   "source": [
    "run()"
   ]
  },
  {
   "cell_type": "code",
   "execution_count": null,
   "metadata": {
    "collapsed": true
   },
   "outputs": [],
   "source": []
  }
 ],
 "metadata": {
  "anaconda-cloud": {},
  "kernelspec": {
   "display_name": "Python [default]",
   "language": "python",
   "name": "python3"
  },
  "language_info": {
   "codemirror_mode": {
    "name": "ipython",
    "version": 3
   },
   "file_extension": ".py",
   "mimetype": "text/x-python",
   "name": "python",
   "nbconvert_exporter": "python",
   "pygments_lexer": "ipython3",
   "version": "3.5.2"
  }
 },
 "nbformat": 4,
 "nbformat_minor": 1
}
