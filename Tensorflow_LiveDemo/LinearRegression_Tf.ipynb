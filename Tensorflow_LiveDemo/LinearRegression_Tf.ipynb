{
 "cells": [
  {
   "cell_type": "markdown",
   "metadata": {},
   "source": [
    "# Live Demo from CS224n for Tensorflow\n",
    "Thie demo video can found from https://www.youtube.com/watch?v=PicxU81owCs&index=7&list=PL3FW7Lu3i5Jsnh1rnUwq_TcylNr7EkRe6\n"
   ]
  },
  {
   "cell_type": "code",
   "execution_count": 2,
   "metadata": {
    "collapsed": false
   },
   "outputs": [],
   "source": [
    "# init and imports\n",
    "import numpy as np\n",
    "import tensorflow as tf\n",
    "import matplotlib\n",
    "matplotlib.use('TKAgg')\n",
    "from matplotlib import pyplot as plt\n",
    "%matplotlib inline"
   ]
  },
  {
   "cell_type": "code",
   "execution_count": null,
   "metadata": {
    "collapsed": true
   },
   "outputs": [],
   "source": [
    "# generate linear data\n",
    "def generate_dataset():\n",
    "    # y = 2x + e\n",
    "    # where 'e' is sampled from a normal distribution\n",
    "    x_batch = np.linspace(-1, 1, 101)\n",
    "    y_batch = 2 * x_batch + np.random.randn(*x_batch.shape) * 0.3\n",
    "    return x_batch, y_batch\n",
    "\n",
    "def run():\n",
    "    pass\n",
    "    x_batch, y_batch = generate_dataset()\n",
    "    \n",
    "    plt.figure(1)\n",
    "    plt.scatter(x_batch)"
   ]
  }
 ],
 "metadata": {
  "anaconda-cloud": {},
  "kernelspec": {
   "display_name": "Python [default]",
   "language": "python",
   "name": "python3"
  },
  "language_info": {
   "codemirror_mode": {
    "name": "ipython",
    "version": 3
   },
   "file_extension": ".py",
   "mimetype": "text/x-python",
   "name": "python",
   "nbconvert_exporter": "python",
   "pygments_lexer": "ipython3",
   "version": "3.5.2"
  }
 },
 "nbformat": 4,
 "nbformat_minor": 1
}
